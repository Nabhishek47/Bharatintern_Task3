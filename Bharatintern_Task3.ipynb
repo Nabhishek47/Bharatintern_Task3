{
  "nbformat": 4,
  "nbformat_minor": 0,
  "metadata": {
    "colab": {
      "provenance": []
    },
    "kernelspec": {
      "name": "python3",
      "display_name": "Python 3"
    },
    "language_info": {
      "name": "python"
    }
  },
  "cells": [
    {
      "cell_type": "code",
      "execution_count": null,
      "metadata": {
        "colab": {
          "base_uri": "https://localhost:8080/"
        },
        "id": "fzttWjbXkEla",
        "outputId": "91555401-eec1-419f-d318-723f8c286362"
      },
      "outputs": [
        {
          "output_type": "stream",
          "name": "stdout",
          "text": [
            "Accuracy: 1.0\n",
            "\n",
            "Classification Report:\n",
            "                  precision    recall  f1-score   support\n",
            "\n",
            "    Iris-setosa       1.00      1.00      1.00        10\n",
            "Iris-versicolor       1.00      1.00      1.00         9\n",
            " Iris-virginica       1.00      1.00      1.00        11\n",
            "\n",
            "       accuracy                           1.00        30\n",
            "      macro avg       1.00      1.00      1.00        30\n",
            "   weighted avg       1.00      1.00      1.00        30\n",
            "\n",
            "\n",
            "Predicted Species for new data:\n",
            " ['Iris-setosa' 'Iris-virginica' 'Iris-versicolor']\n"
          ]
        }
      ],
      "source": [
        "import pandas as pd\n",
        "from sklearn.model_selection import train_test_split\n",
        "from sklearn.tree import DecisionTreeClassifier\n",
        "from sklearn.metrics import accuracy_score, classification_report\n",
        "data = pd.read_csv('/content/IRIS.csv')\n",
        "#features (petal and sepal lengths) and the target (species)\n",
        "X = data.drop(['species'], axis=1)\n",
        "y = data['species']\n",
        "\n",
        "# Split the data into training and testing sets\n",
        "X_train, X_test, y_train, y_test = train_test_split(X, y, test_size=0.2, random_state=42)\n",
        "\n",
        "# Create a decision tree classifier\n",
        "model = DecisionTreeClassifier(random_state=42)\n",
        "\n",
        "# Fit the model to the training data\n",
        "model.fit(X_train, y_train)\n",
        "\n",
        "# Make predictions on the test data\n",
        "y_pred = model.predict(X_test)\n",
        "\n",
        "# Evaluate the model's performance\n",
        "accuracy = accuracy_score(y_test, y_pred)\n",
        "classification_rep = classification_report(y_test, y_pred)\n",
        "\n",
        "print(\"Accuracy:\", accuracy)\n",
        "print(\"\\nClassification Report:\\n\", classification_rep)\n",
        "\n",
        "# Predict the species for new data\n",
        "new_data = pd.DataFrame({\n",
        "    'sepal_length': [5.1, 6.3, 4.9],\n",
        "    'sepal_width': [3.5, 3.3, 3.1],\n",
        "    'petal_length': [1.4, 6.0, 4.7],\n",
        "    'petal_width': [0.2, 2.5, 1.4]\n",
        "})\n",
        "\n",
        "new_predictions = model.predict(new_data)\n",
        "print(\"\\nPredicted Species for new data:\\n\", new_predictions)"
      ]
    }
  ]
}